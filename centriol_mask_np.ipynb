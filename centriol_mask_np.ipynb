{
 "cells": [
  {
   "cell_type": "code",
   "execution_count": 2,
   "id": "0f7dcbc2",
   "metadata": {},
   "outputs": [],
   "source": [
    "import csv\n",
    "import os\n",
    "import pandas as pd\n",
    "import matplotlib.pyplot as plt\n",
    "import numpy as np\n",
    "import cv2"
   ]
  },
  {
   "cell_type": "code",
   "execution_count": 3,
   "id": "71ee20db",
   "metadata": {},
   "outputs": [
    {
     "name": "stdout",
     "output_type": "stream",
     "text": [
      "['RPE1wt_CEP152+GTU88+PCNT_1_000_000_max_C1'\n",
      " 'RPE1wt_CEP152+GTU88+PCNT_1_000_000_max_C2'\n",
      " 'RPE1wt_CEP152+GTU88+PCNT_1_000_000_max_C3'\n",
      " 'RPE1wt_CEP152+GTU88+PCNT_1_000_001_max_C1'\n",
      " 'RPE1wt_CEP152+GTU88+PCNT_1_000_001_max_C2'\n",
      " 'RPE1wt_CEP152+GTU88+PCNT_1_000_001_max_C3'\n",
      " 'RPE1wt_CEP152+GTU88+PCNT_1_000_002_max_C1'\n",
      " 'RPE1wt_CEP152+GTU88+PCNT_1_000_002_max_C2'\n",
      " 'RPE1wt_CEP152+GTU88+PCNT_1_000_002_max_C3'\n",
      " 'RPE1wt_CEP152+GTU88+PCNT_1_000_003_max_C1'\n",
      " 'RPE1wt_CEP152+GTU88+PCNT_1_000_003_max_C2'\n",
      " 'RPE1wt_CEP152+GTU88+PCNT_1_000_003_max_C3'\n",
      " 'RPE1wt_CEP152+GTU88+PCNT_1_000_004_max_C1'\n",
      " 'RPE1wt_CEP152+GTU88+PCNT_1_000_004_max_C2'\n",
      " 'RPE1wt_CEP152+GTU88+PCNT_1_000_004_max_C3'\n",
      " 'RPE1wt_CEP152+GTU88+PCNT_1_001_000_max_C1'\n",
      " 'RPE1wt_CEP152+GTU88+PCNT_1_001_000_max_C2'\n",
      " 'RPE1wt_CEP152+GTU88+PCNT_1_001_000_max_C3'\n",
      " 'RPE1wt_CEP152+GTU88+PCNT_1_001_001_max_C1'\n",
      " 'RPE1wt_CEP152+GTU88+PCNT_1_001_001_max_C2'\n",
      " 'RPE1wt_CEP152+GTU88+PCNT_1_001_001_max_C3'\n",
      " 'RPE1wt_CEP152+GTU88+PCNT_1_001_002_max_C1'\n",
      " 'RPE1wt_CEP152+GTU88+PCNT_1_001_002_max_C2'\n",
      " 'RPE1wt_CEP152+GTU88+PCNT_1_001_002_max_C3'\n",
      " 'RPE1wt_CEP152+GTU88+PCNT_1_001_003_max_C1'\n",
      " 'RPE1wt_CEP152+GTU88+PCNT_1_001_003_max_C2'\n",
      " 'RPE1wt_CEP152+GTU88+PCNT_1_001_003_max_C3'\n",
      " 'RPE1wt_CEP152+GTU88+PCNT_1_001_004_max_C1'\n",
      " 'RPE1wt_CEP152+GTU88+PCNT_1_001_004_max_C2'\n",
      " 'RPE1wt_CEP152+GTU88+PCNT_1_001_004_max_C3'\n",
      " 'RPE1wt_CEP152+GTU88+PCNT_1_002_000_max_C1'\n",
      " 'RPE1wt_CEP152+GTU88+PCNT_1_002_000_max_C2'\n",
      " 'RPE1wt_CEP152+GTU88+PCNT_1_002_000_max_C3'\n",
      " 'RPE1wt_CEP152+GTU88+PCNT_1_002_001_max_C1'\n",
      " 'RPE1wt_CEP152+GTU88+PCNT_1_002_001_max_C2'\n",
      " 'RPE1wt_CEP152+GTU88+PCNT_1_002_001_max_C3'\n",
      " 'RPE1wt_CEP152+GTU88+PCNT_1_002_002_max_C1'\n",
      " 'RPE1wt_CEP152+GTU88+PCNT_1_002_002_max_C2'\n",
      " 'RPE1wt_CEP152+GTU88+PCNT_1_002_002_max_C3'\n",
      " 'RPE1wt_CEP152+GTU88+PCNT_1_002_003_max_C1'\n",
      " 'RPE1wt_CEP152+GTU88+PCNT_1_002_003_max_C2'\n",
      " 'RPE1wt_CEP152+GTU88+PCNT_1_002_003_max_C3'\n",
      " 'RPE1wt_CEP152+GTU88+PCNT_1_002_004_max_C1'\n",
      " 'RPE1wt_CEP152+GTU88+PCNT_1_002_004_max_C2'\n",
      " 'RPE1wt_CEP152+GTU88+PCNT_1_002_004_max_C3'\n",
      " 'RPE1wt_CEP152+GTU88+PCNT_1_003_000_max_C1'\n",
      " 'RPE1wt_CEP152+GTU88+PCNT_1_003_000_max_C2'\n",
      " 'RPE1wt_CEP152+GTU88+PCNT_1_003_000_max_C3'\n",
      " 'RPE1wt_CEP152+GTU88+PCNT_1_003_001_max_C1'\n",
      " 'RPE1wt_CEP152+GTU88+PCNT_1_003_001_max_C2'\n",
      " 'RPE1wt_CEP152+GTU88+PCNT_1_003_001_max_C3'\n",
      " 'RPE1wt_CEP152+GTU88+PCNT_1_003_002_max_C1'\n",
      " 'RPE1wt_CEP152+GTU88+PCNT_1_003_002_max_C2'\n",
      " 'RPE1wt_CEP152+GTU88+PCNT_1_003_002_max_C3'\n",
      " 'RPE1wt_CEP152+GTU88+PCNT_1_003_003_max_C1'\n",
      " 'RPE1wt_CEP152+GTU88+PCNT_1_003_003_max_C2'\n",
      " 'RPE1wt_CEP152+GTU88+PCNT_1_003_003_max_C3'\n",
      " 'RPE1wt_CEP152+GTU88+PCNT_1_003_004_max_C1'\n",
      " 'RPE1wt_CEP152+GTU88+PCNT_1_003_004_max_C2'\n",
      " 'RPE1wt_CEP152+GTU88+PCNT_1_003_004_max_C3'\n",
      " 'RPE1wt_CEP152+GTU88+PCNT_1_004_000_max_C1'\n",
      " 'RPE1wt_CEP152+GTU88+PCNT_1_004_000_max_C2'\n",
      " 'RPE1wt_CEP152+GTU88+PCNT_1_004_000_max_C3'\n",
      " 'RPE1wt_CEP152+GTU88+PCNT_1_004_001_max_C1'\n",
      " 'RPE1wt_CEP152+GTU88+PCNT_1_004_001_max_C2'\n",
      " 'RPE1wt_CEP152+GTU88+PCNT_1_004_001_max_C3'\n",
      " 'RPE1wt_CEP152+GTU88+PCNT_1_004_002_max_C1'\n",
      " 'RPE1wt_CEP152+GTU88+PCNT_1_004_002_max_C2'\n",
      " 'RPE1wt_CEP152+GTU88+PCNT_1_004_002_max_C3'\n",
      " 'RPE1wt_CEP152+GTU88+PCNT_1_004_003_max_C1'\n",
      " 'RPE1wt_CEP152+GTU88+PCNT_1_004_003_max_C2'\n",
      " 'RPE1wt_CEP152+GTU88+PCNT_1_004_003_max_C3'\n",
      " 'RPE1wt_CEP152+GTU88+PCNT_1_004_004_max_C1'\n",
      " 'RPE1wt_CEP152+GTU88+PCNT_1_004_004_max_C2'\n",
      " 'RPE1wt_CEP152+GTU88+PCNT_1_004_004_max_C3'\n",
      " 'RPE1wt_CEP63+CETN2+PCNT_1_000_000_max_C1'\n",
      " 'RPE1wt_CEP63+CETN2+PCNT_1_000_000_max_C2'\n",
      " 'RPE1wt_CEP63+CETN2+PCNT_1_000_000_max_C3'\n",
      " 'RPE1wt_CEP63+CETN2+PCNT_1_000_001_max_C1'\n",
      " 'RPE1wt_CEP63+CETN2+PCNT_1_000_001_max_C2'\n",
      " 'RPE1wt_CEP63+CETN2+PCNT_1_000_001_max_C3'\n",
      " 'RPE1wt_CEP63+CETN2+PCNT_1_000_002_max_C1'\n",
      " 'RPE1wt_CEP63+CETN2+PCNT_1_000_002_max_C2'\n",
      " 'RPE1wt_CEP63+CETN2+PCNT_1_000_002_max_C3'\n",
      " 'RPE1wt_CEP63+CETN2+PCNT_1_000_003_max_C1'\n",
      " 'RPE1wt_CEP63+CETN2+PCNT_1_000_003_max_C2'\n",
      " 'RPE1wt_CEP63+CETN2+PCNT_1_000_003_max_C3'\n",
      " 'RPE1wt_CEP63+CETN2+PCNT_1_000_004_max_C1'\n",
      " 'RPE1wt_CEP63+CETN2+PCNT_1_000_004_max_C2'\n",
      " 'RPE1wt_CEP63+CETN2+PCNT_1_000_004_max_C3'\n",
      " 'RPE1wt_CEP63+CETN2+PCNT_1_001_000_max_C1'\n",
      " 'RPE1wt_CEP63+CETN2+PCNT_1_001_000_max_C2'\n",
      " 'RPE1wt_CEP63+CETN2+PCNT_1_001_000_max_C3'\n",
      " 'RPE1wt_CEP63+CETN2+PCNT_1_001_001_max_C1'\n",
      " 'RPE1wt_CEP63+CETN2+PCNT_1_001_001_max_C2'\n",
      " 'RPE1wt_CEP63+CETN2+PCNT_1_001_001_max_C3'\n",
      " 'RPE1wt_CEP63+CETN2+PCNT_1_001_002_max_C1'\n",
      " 'RPE1wt_CEP63+CETN2+PCNT_1_001_002_max_C2'\n",
      " 'RPE1wt_CEP63+CETN2+PCNT_1_001_002_max_C3'\n",
      " 'RPE1wt_CEP63+CETN2+PCNT_1_001_003_max_C1'\n",
      " 'RPE1wt_CEP63+CETN2+PCNT_1_001_003_max_C2'\n",
      " 'RPE1wt_CEP63+CETN2+PCNT_1_001_003_max_C3'\n",
      " 'RPE1wt_CEP63+CETN2+PCNT_1_001_004_max_C1'\n",
      " 'RPE1wt_CEP63+CETN2+PCNT_1_001_004_max_C2'\n",
      " 'RPE1wt_CEP63+CETN2+PCNT_1_001_004_max_C3'\n",
      " 'RPE1wt_CEP63+CETN2+PCNT_1_002_000_max_C1'\n",
      " 'RPE1wt_CEP63+CETN2+PCNT_1_002_000_max_C2'\n",
      " 'RPE1wt_CEP63+CETN2+PCNT_1_002_000_max_C3'\n",
      " 'RPE1wt_CEP63+CETN2+PCNT_1_002_001_max_C1'\n",
      " 'RPE1wt_CEP63+CETN2+PCNT_1_002_001_max_C2'\n",
      " 'RPE1wt_CEP63+CETN2+PCNT_1_002_001_max_C3'\n",
      " 'RPE1wt_CEP63+CETN2+PCNT_1_002_002_max_C1'\n",
      " 'RPE1wt_CEP63+CETN2+PCNT_1_002_002_max_C2'\n",
      " 'RPE1wt_CEP63+CETN2+PCNT_1_002_002_max_C3'\n",
      " 'RPE1wt_CEP63+CETN2+PCNT_1_002_003_max_C1'\n",
      " 'RPE1wt_CEP63+CETN2+PCNT_1_002_003_max_C2'\n",
      " 'RPE1wt_CEP63+CETN2+PCNT_1_002_003_max_C3'\n",
      " 'RPE1wt_CEP63+CETN2+PCNT_1_003_000_max_C1'\n",
      " 'RPE1wt_CEP63+CETN2+PCNT_1_003_000_max_C2'\n",
      " 'RPE1wt_CEP63+CETN2+PCNT_1_003_000_max_C3'\n",
      " 'RPE1wt_CEP63+CETN2+PCNT_1_003_001_max_C1'\n",
      " 'RPE1wt_CEP63+CETN2+PCNT_1_003_001_max_C2'\n",
      " 'RPE1wt_CEP63+CETN2+PCNT_1_003_001_max_C3'\n",
      " 'RPE1wt_CEP63+CETN2+PCNT_1_003_002_max_C1'\n",
      " 'RPE1wt_CEP63+CETN2+PCNT_1_003_002_max_C2'\n",
      " 'RPE1wt_CEP63+CETN2+PCNT_1_003_002_max_C3'\n",
      " 'RPE1wt_CEP63+CETN2+PCNT_1_003_003_max_C1'\n",
      " 'RPE1wt_CEP63+CETN2+PCNT_1_003_003_max_C2'\n",
      " 'RPE1wt_CEP63+CETN2+PCNT_1_003_003_max_C3'\n",
      " 'RPE1wt_CEP63+CETN2+PCNT_1_003_004_max_C1'\n",
      " 'RPE1wt_CEP63+CETN2+PCNT_1_003_004_max_C2'\n",
      " 'RPE1wt_CEP63+CETN2+PCNT_1_003_004_max_C3'\n",
      " 'RPE1wt_CEP63+CETN2+PCNT_1_004_000_max_C1'\n",
      " 'RPE1wt_CEP63+CETN2+PCNT_1_004_000_max_C2'\n",
      " 'RPE1wt_CEP63+CETN2+PCNT_1_004_000_max_C3'\n",
      " 'RPE1wt_CEP63+CETN2+PCNT_1_004_001_max_C1'\n",
      " 'RPE1wt_CEP63+CETN2+PCNT_1_004_001_max_C2'\n",
      " 'RPE1wt_CEP63+CETN2+PCNT_1_004_001_max_C3'\n",
      " 'RPE1wt_CEP63+CETN2+PCNT_1_004_002_max_C1'\n",
      " 'RPE1wt_CEP63+CETN2+PCNT_1_004_002_max_C2'\n",
      " 'RPE1wt_CEP63+CETN2+PCNT_1_004_002_max_C3'\n",
      " 'RPE1wt_CEP63+CETN2+PCNT_1_004_003_max_C1'\n",
      " 'RPE1wt_CEP63+CETN2+PCNT_1_004_003_max_C2'\n",
      " 'RPE1wt_CEP63+CETN2+PCNT_1_004_003_max_C3'\n",
      " 'RPE1wt_CEP63+CETN2+PCNT_1_004_004_max_C1'\n",
      " 'RPE1wt_CEP63+CETN2+PCNT_1_004_004_max_C2'\n",
      " 'RPE1wt_CEP63+CETN2+PCNT_1_004_004_max_C3'\n",
      " 'RPE1wt_CP110+GTU88+PCNT_2_000_000_max_C1'\n",
      " 'RPE1wt_CP110+GTU88+PCNT_2_000_000_max_C2'\n",
      " 'RPE1wt_CP110+GTU88+PCNT_2_000_000_max_C3'\n",
      " 'RPE1wt_CP110+GTU88+PCNT_2_000_001_max_C1'\n",
      " 'RPE1wt_CP110+GTU88+PCNT_2_000_001_max_C2'\n",
      " 'RPE1wt_CP110+GTU88+PCNT_2_000_001_max_C3'\n",
      " 'RPE1wt_CP110+GTU88+PCNT_2_000_002_max_C1'\n",
      " 'RPE1wt_CP110+GTU88+PCNT_2_000_002_max_C2'\n",
      " 'RPE1wt_CP110+GTU88+PCNT_2_000_002_max_C3'\n",
      " 'RPE1wt_CP110+GTU88+PCNT_2_000_003_max_C1'\n",
      " 'RPE1wt_CP110+GTU88+PCNT_2_000_003_max_C2'\n",
      " 'RPE1wt_CP110+GTU88+PCNT_2_000_003_max_C3'\n",
      " 'RPE1wt_CP110+GTU88+PCNT_2_000_004_max_C2'\n",
      " 'RPE1wt_CP110+GTU88+PCNT_2_000_004_max_C3'\n",
      " 'RPE1wt_CP110+GTU88+PCNT_2_001_000_max_C1'\n",
      " 'RPE1wt_CP110+GTU88+PCNT_2_001_000_max_C2'\n",
      " 'RPE1wt_CP110+GTU88+PCNT_2_001_000_max_C3'\n",
      " 'RPE1wt_CP110+GTU88+PCNT_2_001_001_max_C1'\n",
      " 'RPE1wt_CP110+GTU88+PCNT_2_001_001_max_C2'\n",
      " 'RPE1wt_CP110+GTU88+PCNT_2_001_001_max_C3'\n",
      " 'RPE1wt_CP110+GTU88+PCNT_2_001_002_max_C1'\n",
      " 'RPE1wt_CP110+GTU88+PCNT_2_001_002_max_C2'\n",
      " 'RPE1wt_CP110+GTU88+PCNT_2_001_002_max_C3'\n",
      " 'RPE1wt_CP110+GTU88+PCNT_2_001_003_max_C1'\n",
      " 'RPE1wt_CP110+GTU88+PCNT_2_001_003_max_C2'\n",
      " 'RPE1wt_CP110+GTU88+PCNT_2_001_003_max_C3'\n",
      " 'RPE1wt_CP110+GTU88+PCNT_2_001_004_max_C1'\n",
      " 'RPE1wt_CP110+GTU88+PCNT_2_001_004_max_C2'\n",
      " 'RPE1wt_CP110+GTU88+PCNT_2_001_004_max_C3'\n",
      " 'RPE1wt_CP110+GTU88+PCNT_2_002_000_max_C1'\n",
      " 'RPE1wt_CP110+GTU88+PCNT_2_002_000_max_C2'\n",
      " 'RPE1wt_CP110+GTU88+PCNT_2_002_000_max_C3'\n",
      " 'RPE1wt_CP110+GTU88+PCNT_2_002_001_max_C1'\n",
      " 'RPE1wt_CP110+GTU88+PCNT_2_002_001_max_C2'\n",
      " 'RPE1wt_CP110+GTU88+PCNT_2_002_001_max_C3'\n",
      " 'RPE1wt_CP110+GTU88+PCNT_2_002_002_max_C1'\n",
      " 'RPE1wt_CP110+GTU88+PCNT_2_002_002_max_C2'\n",
      " 'RPE1wt_CP110+GTU88+PCNT_2_002_002_max_C3'\n",
      " 'RPE1wt_CP110+GTU88+PCNT_2_002_003_max_C1'\n",
      " 'RPE1wt_CP110+GTU88+PCNT_2_002_003_max_C2'\n",
      " 'RPE1wt_CP110+GTU88+PCNT_2_002_003_max_C3'\n",
      " 'RPE1wt_CP110+GTU88+PCNT_2_002_004_max_C1'\n",
      " 'RPE1wt_CP110+GTU88+PCNT_2_002_004_max_C2'\n",
      " 'RPE1wt_CP110+GTU88+PCNT_2_002_004_max_C3'\n",
      " 'RPE1wt_CP110+GTU88+PCNT_2_003_000_max_C1'\n",
      " 'RPE1wt_CP110+GTU88+PCNT_2_003_000_max_C2'\n",
      " 'RPE1wt_CP110+GTU88+PCNT_2_003_000_max_C3'\n",
      " 'RPE1wt_CP110+GTU88+PCNT_2_003_001_max_C1'\n",
      " 'RPE1wt_CP110+GTU88+PCNT_2_003_001_max_C2'\n",
      " 'RPE1wt_CP110+GTU88+PCNT_2_003_001_max_C3'\n",
      " 'RPE1wt_CP110+GTU88+PCNT_2_003_002_max_C1'\n",
      " 'RPE1wt_CP110+GTU88+PCNT_2_003_002_max_C2'\n",
      " 'RPE1wt_CP110+GTU88+PCNT_2_003_002_max_C3'\n",
      " 'RPE1wt_CP110+GTU88+PCNT_2_003_003_max_C1'\n",
      " 'RPE1wt_CP110+GTU88+PCNT_2_003_003_max_C2'\n",
      " 'RPE1wt_CP110+GTU88+PCNT_2_003_003_max_C3'\n",
      " 'RPE1wt_CP110+GTU88+PCNT_2_003_004_max_C1'\n",
      " 'RPE1wt_CP110+GTU88+PCNT_2_003_004_max_C2'\n",
      " 'RPE1wt_CP110+GTU88+PCNT_2_003_004_max_C3'\n",
      " 'RPE1wt_CP110+GTU88+PCNT_2_004_000_max_C1'\n",
      " 'RPE1wt_CP110+GTU88+PCNT_2_004_000_max_C2'\n",
      " 'RPE1wt_CP110+GTU88+PCNT_2_004_000_max_C3'\n",
      " 'RPE1wt_CP110+GTU88+PCNT_2_004_001_max_C1'\n",
      " 'RPE1wt_CP110+GTU88+PCNT_2_004_001_max_C2'\n",
      " 'RPE1wt_CP110+GTU88+PCNT_2_004_001_max_C3'\n",
      " 'RPE1wt_CP110+GTU88+PCNT_2_004_002_max_C1'\n",
      " 'RPE1wt_CP110+GTU88+PCNT_2_004_002_max_C2'\n",
      " 'RPE1wt_CP110+GTU88+PCNT_2_004_002_max_C3'\n",
      " 'RPE1wt_CP110+GTU88+PCNT_2_004_003_max_C1'\n",
      " 'RPE1wt_CP110+GTU88+PCNT_2_004_003_max_C2'\n",
      " 'RPE1wt_CP110+GTU88+PCNT_2_004_003_max_C3'\n",
      " 'RPE1wt_CP110+GTU88+PCNT_2_004_004_max_C1'\n",
      " 'RPE1wt_CP110+GTU88+PCNT_2_004_004_max_C2'\n",
      " 'RPE1wt_CP110+GTU88+PCNT_2_004_004_max_C3']\n"
     ]
    }
   ],
   "source": [
    "data_path = os.path.join(\"datasets_full/RPE1wt_CEP63+CETN2+PCNT_1/projections_channel/CEP63/tif/\")\n",
    "im = cv2.imread(data_path + \"RPE1wt_CEP63+CETN2+PCNT_1_000_000_max_C1.tif\")\n",
    "data = pd.read_csv(\"datasets_full/annotations.csv\")\n",
    "print(np.unique(data['image_name']))"
   ]
  },
  {
   "cell_type": "code",
   "execution_count": 4,
   "id": "28efa077",
   "metadata": {},
   "outputs": [],
   "source": [
    "image_data = data[data['image_name'] == 'RPE1wt_CEP63+CETN2+PCNT_1_000_000_max_C1']\n",
    "image_data_x = pd.DataFrame(data=image_data['x'])\n",
    "image_data_y = pd.DataFrame(data=image_data['y'])\n",
    "x = np.array(image_data_x['x'].values)\n",
    "y = np.array(image_data_y['y'].values)\n",
    "centriol_coords = np.stack((x, y), axis=1)\n",
    "centriol_coords_mask = np.ones(centriol_coords.shape[0], dtype=np.bool)"
   ]
  },
  {
   "cell_type": "code",
   "execution_count": 5,
   "id": "ef33da81",
   "metadata": {},
   "outputs": [
    {
     "name": "stdout",
     "output_type": "stream",
     "text": [
      "(54, 2)\n"
     ]
    }
   ],
   "source": [
    "print(centriol_coords.shape)"
   ]
  },
  {
   "cell_type": "code",
   "execution_count": 6,
   "id": "7cc09cc7",
   "metadata": {},
   "outputs": [],
   "source": [
    "point = centriol_coords[37]\n",
    "point2= centriol_coords[38]"
   ]
  },
  {
   "cell_type": "code",
   "execution_count": 7,
   "id": "32eb6eee",
   "metadata": {},
   "outputs": [],
   "source": [
    "def generate_heatmaps(joints, joints_mask, image_size=(256,256), heatmap_size=(64,64), sigma=1):\n",
    "    '''\n",
    "    :param joints:  [num_joints, 3]\n",
    "    :param joints_mask: [num_joints]\n",
    "    :return: heatmaps [num_joints x heatmap_height x heatmap_width], joints_mask(1: visible, 0: invisible)\n",
    "    '''\n",
    "\n",
    "    num_joints = joints.shape[0]\n",
    "    heatmaps = np.zeros((num_joints, heatmap_size[1], heatmap_size[0]), dtype=np.float32)\n",
    "    mask = joints_mask.copy()\n",
    "    tmp_size = sigma * 3\n",
    "\n",
    "    for joint_id, (joint, joint_mask) in enumerate(zip(joints, joints_mask)):\n",
    "\n",
    "        if not joint_mask: # joint is invisible\n",
    "            continue\n",
    "\n",
    "        feat_stride = (image_size[1] / heatmap_size[1], image_size[0] / heatmap_size[0])\n",
    "        mu_x = int(joint[0] / feat_stride[0] + 0.5)\n",
    "        mu_y = int(joint[1] / feat_stride[1] + 0.5)\n",
    "        # Check that any part of the gaussian is in-bounds\n",
    "        ul = [int(mu_x - tmp_size), int(mu_y - tmp_size)] # up-left\n",
    "        br = [int(mu_x + tmp_size + 1), int(mu_y + tmp_size + 1)] # bottom-right\n",
    "\n",
    "        if ul[0] >= heatmap_size[0] or ul[1] >= heatmap_size[1] \\\n",
    "                or br[0] < 0 or br[1] < 0:\n",
    "            # If not, just return the image as is\n",
    "            mask[joint_id] = False\n",
    "            continue\n",
    "\n",
    "        # # Generate gaussian\n",
    "        size = 2 * tmp_size + 1\n",
    "        x = np.arange(0, size, 1, np.float32)\n",
    "        y = x[:, np.newaxis]\n",
    "        x0 = y0 = size // 2\n",
    "        g = np.exp(- ((x - x0) ** 2 + (y - y0) ** 2) / (2 * sigma ** 2))\n",
    "\n",
    "        # Usable gaussian range\n",
    "        g_x = max(0, -ul[0]), min(br[0], heatmap_size[0]) - ul[0]\n",
    "        g_y = max(0, -ul[1]), min(br[1], heatmap_size[1]) - ul[1]\n",
    "        # Image range\n",
    "        img_x = max(0, ul[0]), min(br[0], heatmap_size[0])\n",
    "        img_y = max(0, ul[1]), min(br[1], heatmap_size[1])\n",
    "\n",
    "        heatmaps[joint_id][img_y[0]:img_y[1], img_x[0]:img_x[1]] = \\\n",
    "            g[g_y[0]:g_y[1], g_x[0]:g_x[1]]\n",
    "\n",
    "    return heatmaps, mask"
   ]
  },
  {
   "cell_type": "code",
   "execution_count": 8,
   "id": "6f7f1c3d",
   "metadata": {},
   "outputs": [],
   "source": [
    "heatmaps, _ = generate_heatmaps(centriol_coords, centriol_coords_mask, image_size=(2048, 2048), heatmap_size=(2048, 2048), sigma=1)"
   ]
  },
  {
   "cell_type": "code",
   "execution_count": 9,
   "id": "a158fecf",
   "metadata": {},
   "outputs": [
    {
     "name": "stdout",
     "output_type": "stream",
     "text": [
      "(54, 2048, 2048)\n"
     ]
    },
    {
     "name": "stderr",
     "output_type": "stream",
     "text": [
      "Clipping input data to the valid range for imshow with RGB data ([0..1] for floats or [0..255] for integers).\n"
     ]
    },
    {
     "name": "stdout",
     "output_type": "stream",
     "text": [
      "(2048, 2048, 3)\n"
     ]
    },
    {
     "data": {
      "text/plain": [
       "<matplotlib.image.AxesImage at 0x7faf3ca2b3d0>"
      ]
     },
     "execution_count": 9,
     "metadata": {},
     "output_type": "execute_result"
    },
    {
     "data": {
      "image/png": "[encoded data removed]",
      "text/plain": [
       "<Figure size 720x720 with 1 Axes>"
      ]
     },
     "metadata": {
      "needs_background": "light"
     },
     "output_type": "display_data"
    }
   ],
   "source": [
    "print(heatmaps.shape)\n",
    "mask = np.sum(heatmaps, axis=0)\n",
    "#new_mask = (mask - np.min(mask)) * 255 / np.max(mask)\n",
    "new_mask = mask.copy()\n",
    "new_mask[new_mask > 0] = 255\n",
    "new_mask = np.repeat(new_mask[:, :, np.newaxis], 3, axis=-1)\n",
    "print(new_mask.shape)\n",
    "plt.figure(figsize=(10, 10))\n",
    "plt.imshow(new_mask) ##[point[1]-20:point[1]+20, point[0]-20:point[0]+20]"
   ]
  },
  {
   "cell_type": "code",
   "execution_count": 10,
   "id": "0f0d67bd",
   "metadata": {},
   "outputs": [],
   "source": [
    "def load_images_and_coords_from_folder(folders, csv_file_path):\n",
    "    images = []\n",
    "    annotations = []\n",
    "    annotations_mask = []\n",
    "    annotation_file = pd.read_csv(csv_file_path)\n",
    "    for folder in folders:\n",
    "        for filename in os.listdir(folder):\n",
    "            img = cv2.imread(os.path.join(folder,filename))\n",
    "            annot = annotation_file[annotation_file['image_name'] == filename[:-4]]\n",
    "            if img is not None:\n",
    "                images.append(img)\n",
    "            if annot is not None:\n",
    "                image_data_x = pd.DataFrame(data=annot['x'])\n",
    "                image_data_y = pd.DataFrame(data=annot['y'])\n",
    "                x = np.array(image_data_x['x'].values)\n",
    "                y = np.array(image_data_y['y'].values)\n",
    "                centriol_coords = np.stack((x, y), axis=1)\n",
    "                centriol_coords_mask = np.ones(centriol_coords.shape[0], dtype=np.bool)\n",
    "                \n",
    "                annotations.append(centriol_coords)\n",
    "                annotations_mask.append(centriol_coords_mask)\n",
    "    return images, annotations, annotations_mask"
   ]
  },
  {
   "cell_type": "code",
   "execution_count": 11,
   "id": "d04b4e5b",
   "metadata": {},
   "outputs": [],
   "source": [
    "f_path = os.path.join(\"datasets_full/RPE1wt_CEP63+CETN2+PCNT_1/projections_channel\")\n",
    "folder_path1 = os.path.join(f_path, \"CEP63/tif\")\n",
    "# folder_path2 = os.path.join(f_path, \"CETN2/tif\")\n",
    "# folder_path3 = os.path.join(f_path, \"PCNT/tif\")\n",
    "# folders = [folder_path1, folder_path2, folder_path3]\n",
    "folders = [folder_path1]\n",
    "\n",
    "csv_file_path = os.path.join(\"datasets_full/annotations.csv\")"
   ]
  },
  {
   "cell_type": "code",
   "execution_count": 12,
   "id": "28ca40fb",
   "metadata": {},
   "outputs": [],
   "source": [
    "all_images, annotations, annotations_mask = load_images_and_coords_from_folder(folders, csv_file_path)"
   ]
  },
  {
   "cell_type": "code",
   "execution_count": 13,
   "id": "e16161e2",
   "metadata": {},
   "outputs": [
    {
     "name": "stdout",
     "output_type": "stream",
     "text": [
      "25 25 25\n"
     ]
    }
   ],
   "source": [
    "print(len(all_images), len(annotations), len(annotations_mask))"
   ]
  },
  {
   "cell_type": "code",
   "execution_count": 15,
   "id": "46529da1",
   "metadata": {},
   "outputs": [],
   "source": [
    "def get_data_names(markers, channels):\n",
    "    \"\"\"\n",
    "    Markers is list of strings of the form (\"RPE1wt_CEP63+CETN2+PCNT\")\n",
    "    and channel is also list of string and can be : \"C0\", \"C1\", \"C2\", \"C3\"\n",
    "    \"\"\"\n",
    "    data = pd.read_csv(csv_file_path)\n",
    "    data_names = np.unique(data['image_name'])\n",
    "    new_data_names = data_names.copy()\n",
    "    #data_names = np.array2string(data_names)\n",
    "    for marker in markers:\n",
    "        for channel in channels:\n",
    "            for i in range(len(data_names)):\n",
    "                new_data_names[i] = data_names[i][:-17] + data_names[i][-3:]\n",
    "            reduce_data_names = data_names[new_data_names == os.path.join(marker + \"_\" + channel)]\n",
    "    print(reduce_data_names)\n",
    "    return reduce_data_names\n",
    "\n",
    "#####################################################################################\n",
    "#TODO choose data images according to those name from annotations.cvs################\n",
    "#####################################################################################"
   ]
  },
  {
   "cell_type": "code",
   "execution_count": null,
   "id": "549882e0",
   "metadata": {},
   "outputs": [],
   "source": [
    "for coords, masks in zip(annotations, annotations_mask):\n",
    "    heatmaps, _ = generate_heatmaps(coords, mask, image_size=(2048, 2048), heatmap_size=(2048, 2048), sigma=1)\n",
    "    heatmap = np.sum(heatmaps, axis=0)\n",
    "    heatmap[heatmap > 0] = 255\n",
    "    heatmap = np.repeat(heatmap[:, :, np.newaxis], 3, axis=-1)\n",
    "    plt.imsave(\"datasets_full/RPE1wt_CEP63+CETN2+PCNT_1/projections_channel/CEP63/mask/)"
   ]
  }
 ],
 "metadata": {
  "kernelspec": {
   "display_name": "Python 3 (ipykernel)",
   "language": "python",
   "name": "python3"
  },
  "language_info": {
   "codemirror_mode": {
    "name": "ipython",
    "version": 3
   },
   "file_extension": ".py",
   "mimetype": "text/x-python",
   "name": "python",
   "nbconvert_exporter": "python",
   "pygments_lexer": "ipython3",
   "version": "3.7.9"
  }
 },
 "nbformat": 4,
 "nbformat_minor": 5
}
