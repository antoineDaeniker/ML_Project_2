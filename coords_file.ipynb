{
 "cells": [
  {
   "cell_type": "code",
   "execution_count": 1,
   "id": "074b8c16",
   "metadata": {},
   "outputs": [],
   "source": [
    "import csv\n",
    "import os\n",
    "import pandas as pd\n",
    "import matplotlib.pyplot as plt\n",
    "import numpy as np\n",
    "import cv2\n",
    "import imutils"
   ]
  },
  {
   "cell_type": "code",
   "execution_count": 2,
   "id": "19951df3",
   "metadata": {},
   "outputs": [],
   "source": [
    "def get_mask_info(prediction_path, annotation_file_path, mask_pred_path, mask_gt_path):\n",
    "    images_names = [f for f in os.listdir(prediction_path)]\n",
    "    pred_mask_list = []\n",
    "    gt_mask_list = []\n",
    "    coords_list = []\n",
    "    coords_count_list = []\n",
    "    data = pd.read_csv(annotation_file_path)\n",
    "    img_name, count_coords = np.unique(data['image_name'], return_counts=True)\n",
    "    for name in images_names:\n",
    "        print(name)\n",
    "        pred_mask_list.append(cv2.imread(mask_pred_path + name))\n",
    "        gt_mask_list.append(cv2.imread(mask_gt_path + name))\n",
    "        d = data[data['image_name'] == name[:-9]]\n",
    "        x = np.array(d['x'])\n",
    "        y = np.array(d['y'])\n",
    "        coords = np.stack((y, x), axis=1)\n",
    "        coords_list.append(coords)\n",
    "        coords_count_list.append(count_coords[img_name == name[:-9]])\n",
    "    \n",
    "    return pred_mask_list, gt_mask_list, coords_list, coords_count_list"
   ]
  },
  {
   "cell_type": "code",
   "execution_count": 3,
   "id": "f096af42",
   "metadata": {},
   "outputs": [
    {
     "name": "stdout",
     "output_type": "stream",
     "text": [
      "RPE1wt_CEP152+GTU88+PCNT_1_003_001_max_C1_mask.png\n",
      "RPE1wt_CEP63+CETN2+PCNT_1_004_002_max_C3_mask.png\n",
      "RPE1wt_CEP152+GTU88+PCNT_1_002_001_max_C1_mask.png\n",
      "RPE1wt_CP110+GTU88+PCNT_2_003_003_max_C1_mask.png\n",
      "RPE1wt_CEP152+GTU88+PCNT_1_001_001_max_C1_mask.png\n",
      "RPE1wt_CEP63+CETN2+PCNT_1_002_001_max_C1_mask.png\n",
      "RPE1wt_CEP152+GTU88+PCNT_1_004_002_max_C3_mask.png\n",
      "RPE1wt_CEP63+CETN2+PCNT_1_004_004_max_C3_mask.png\n",
      "RPE1wt_CEP152+GTU88+PCNT_1_000_003_max_C3_mask.png\n",
      "RPE1wt_CEP63+CETN2+PCNT_1_000_004_max_C2_mask.png\n",
      "RPE1wt_CP110+GTU88+PCNT_2_004_000_max_C1_mask.png\n",
      "RPE1wt_CEP63+CETN2+PCNT_1_003_001_max_C2_mask.png\n",
      "RPE1wt_CP110+GTU88+PCNT_2_003_004_max_C2_mask.png\n",
      "RPE1wt_CP110+GTU88+PCNT_2_002_003_max_C2_mask.png\n",
      "RPE1wt_CEP152+GTU88+PCNT_1_002_001_max_C2_mask.png\n",
      "RPE1wt_CEP152+GTU88+PCNT_1_002_003_max_C1_mask.png\n",
      "RPE1wt_CEP152+GTU88+PCNT_1_000_000_max_C2_mask.png\n",
      "RPE1wt_CEP63+CETN2+PCNT_1_004_003_max_C1_mask.png\n",
      "RPE1wt_CEP152+GTU88+PCNT_1_003_000_max_C3_mask.png\n",
      "RPE1wt_CP110+GTU88+PCNT_2_002_001_max_C1_mask.png\n",
      "RPE1wt_CEP63+CETN2+PCNT_1_000_000_max_C2_mask.png\n",
      "RPE1wt_CEP63+CETN2+PCNT_1_002_000_max_C2_mask.png\n",
      "RPE1wt_CEP63+CETN2+PCNT_1_001_003_max_C1_mask.png\n"
     ]
    }
   ],
   "source": [
    "prediction_path = \"dataset/single-channel-images/predictions/full_experiment_single_channel/\"\n",
    "annotation_file_path = \"dataset/raw-data/annotations.csv\"\n",
    "mask_pred_path = os.path.join('dataset/single-channel-images/predictions/full_experiment_single_channel/')\n",
    "mask_gt_path = os.path.join('dataset/single-channel-images/masks/')\n",
    "\n",
    "pred_mask_list, gt_mask_list, coords_list, coords_count_list = \\\n",
    "        get_mask_info(prediction_path, annotation_file_path, mask_pred_path, mask_gt_path)"
   ]
  },
  {
   "cell_type": "code",
   "execution_count": 4,
   "id": "28b9879e",
   "metadata": {},
   "outputs": [],
   "source": [
    "def compute_threshold_mask(mask, trsh):\n",
    "    image = mask.copy()\n",
    "    image[image < trsh] = 0\n",
    "    #image[image >= trsh] = 255\n",
    "    gray = cv2.cvtColor(image, cv2.COLOR_BGR2GRAY)\n",
    "    blurred = cv2.GaussianBlur(gray, (3, 3), 0)\n",
    "    #blurred[blurred < trsh] = 0\n",
    "    #blurred[blurred >= trsh] = 255\n",
    "    thresh = cv2.adaptiveThreshold(blurred, 255, cv2.ADAPTIVE_THRESH_MEAN_C, cv2.THRESH_BINARY, 3, -10)\n",
    "    return thresh"
   ]
  },
  {
   "cell_type": "code",
   "execution_count": 5,
   "id": "764c73df",
   "metadata": {},
   "outputs": [],
   "source": [
    "def find_center_coordinates(thresh):\n",
    "    cnts = cv2.findContours(thresh.copy(), cv2.RETR_LIST, cv2.CHAIN_APPROX_SIMPLE)\n",
    "    cnts = imutils.grab_contours(cnts)\n",
    "\n",
    "    # loop over the contours\n",
    "    centers_coords = []\n",
    "    for c in cnts:\n",
    "        M = cv2.moments(c)\n",
    "        if M[\"m00\"] != 0:\n",
    "            cX = int(M[\"m01\"] / M[\"m00\"])\n",
    "            cY = int(M[\"m10\"] / M[\"m00\"])\n",
    "            centers_coords.append(np.array((cX, cY)))\n",
    "        else:\n",
    "            centers_coords.append(np.array((-1, -1)))\n",
    "            \n",
    "    return np.array(centers_coords)"
   ]
  },
  {
   "cell_type": "code",
   "execution_count": 6,
   "id": "fefa1023",
   "metadata": {},
   "outputs": [],
   "source": [
    "def assign_pred_center_to_gt(pred_coords, gt_coords):\n",
    "    assignment_list = []\n",
    "    new_coords_centriol = np.array(pred_coords[pred_coords != [-1, -1]].reshape(-1, 2))\n",
    "    temp_coords_centriol = new_coords_centriol.copy()\n",
    "    for i, coord in enumerate(gt_coords):\n",
    "        vx = coord[0] - temp_coords_centriol[:, 0]\n",
    "        vy = coord[1] - temp_coords_centriol[:, 1]\n",
    "        dist = np.linalg.norm(coord - temp_coords_centriol, axis=1)\n",
    "        if dist.size != 0:\n",
    "            min_dist = np.argmin(dist)\n",
    "            if dist[min_dist] < 3:\n",
    "                temp_coords_centriol[min_dist] = np.array((np.Inf, np.Inf))\n",
    "                assignment_list.append((i, min_dist))\n",
    "    return np.array(assignment_list)"
   ]
  },
  {
   "cell_type": "code",
   "execution_count": 7,
   "id": "a181f76e",
   "metadata": {},
   "outputs": [],
   "source": [
    "def best_threshold_coord_nb(pred_masks, gt_masks, count_coords, gt_coords):\n",
    "    best_trsh = 0\n",
    "    scores_track = []\n",
    "    scores_track.append(0)\n",
    "    scnd_track = []\n",
    "    scnd_track.append(0)\n",
    "    best_score = 0\n",
    "    total_count = 0\n",
    "    j = 0\n",
    "    for trsh in range(0, 255):\n",
    "        temp_count = 0\n",
    "        scnd_count = 0\n",
    "        for i, (pred, gt) in enumerate(zip(pred_masks, gt_masks)):\n",
    "            if scnd_track[j] != 0:\n",
    "                print(\"threshold : {:3}, {:2}/{:2}, percentage detected centriol {:3.3}, precision {:5}\"\\\n",
    "                      .format(trsh, i, len(pred_masks), 100 * scores_track[j] / np.sum(count_coords), 100 * scores_track[j] / scnd_track[j]), end='\\r')\n",
    "\n",
    "            thresh = compute_threshold_mask(pred, trsh)\n",
    "            centers_coords = find_center_coordinates(thresh)\n",
    "            new_centers_coords = centers_coords[centers_coords != np.array((-1, -1))].reshape(-1, 2)\n",
    "            assign_center = assign_pred_center_to_gt(centers_coords, gt_coords[i])\n",
    "            scnd_count += len(new_centers_coords)\n",
    "            temp_count += len(assign_center)\n",
    "        \n",
    "        scores_track.append(temp_count)\n",
    "        scnd_track.append(scnd_count)\n",
    "        if temp_count > best_score:\n",
    "            best_trsh = trsh\n",
    "            best_score = temp_count\n",
    "            total_count = temp_count\n",
    "        j += 1\n",
    "    return best_trsh, scores_track, scnd_track"
   ]
  },
  {
   "cell_type": "code",
   "execution_count": 9,
   "id": "6f5c31f0",
   "metadata": {},
   "outputs": [],
   "source": [
    "best_trsh = 180"
   ]
  },
  {
   "cell_type": "code",
   "execution_count": 15,
   "id": "3058de21",
   "metadata": {},
   "outputs": [
    {
     "name": "stdout",
     "output_type": "stream",
     "text": [
      "RPE1wt_CEP152+GTU88+PCNT_1_003_001_max_C1_mask.png\n"
     ]
    }
   ],
   "source": [
    "clean_mask_list = []\n",
    "images_names = [f for f in os.listdir(prediction_path)]\n",
    "f = open('dataset/single-channel-images/predictions_annotation.csv', 'w')\n",
    "writer = csv.writer(f)\n",
    "header = ['image_name', 'focus_id', 'x', 'y']\n",
    "writer.writerow(header)\n",
    "for name, img in zip(images_names, pred_mask_list):\n",
    "    thresh = compute_threshold_mask(img, best_trsh)\n",
    "    center_centriol = find_center_coordinates(thresh)\n",
    "    center_centriol_re = center_centriol[center_centriol != np.array((-1, -1))].reshape(-1, 2)\n",
    "    for i, coord in enumerate(center_centriol_re):\n",
    "        writer.writerow([name[:-4], i, coord[0], coord[1]])\n",
    "    \n",
    "    clean_mask_list.append(thresh)"
   ]
  },
  {
   "cell_type": "code",
   "execution_count": null,
   "id": "b7c01f52",
   "metadata": {},
   "outputs": [],
   "source": []
  }
 ],
 "metadata": {
  "kernelspec": {
   "display_name": "Python 3 (ipykernel)",
   "language": "python",
   "name": "python3"
  },
  "language_info": {
   "codemirror_mode": {
    "name": "ipython",
    "version": 3
   },
   "file_extension": ".py",
   "mimetype": "text/x-python",
   "name": "python",
   "nbconvert_exporter": "python",
   "pygments_lexer": "ipython3",
   "version": "3.7.11"
  }
 },
 "nbformat": 4,
 "nbformat_minor": 5
}
